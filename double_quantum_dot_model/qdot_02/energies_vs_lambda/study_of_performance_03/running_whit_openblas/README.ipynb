{
 "cells": [
  {
   "cell_type": "markdown",
   "id": "93d4ad6c-cd06-4923-9639-cdb51141778b",
   "metadata": {},
   "source": [
    "# Usando OpenBLAS\n",
    "\n",
    "Primeramente nos dirigimos a la página oficial de OpenBLAS [(https://www.openblas.net/)](https://www.openblas.net/) y realizamos la intalación de la libreria de OpenBLAS desde el siguiente link [(https://github.com/xianyi/OpenBLAS/wiki/Precompiled-installation-packages)](https://github.com/xianyi/OpenBLAS/wiki/Precompiled-installation-packages), donde se especifica que la forma de hacerlo sería:"
   ]
  },
  {
   "cell_type": "markdown",
   "id": "f75ae0f2",
   "metadata": {},
   "source": [
    "### Debian/Ubuntu/Mint/Kali\n",
    "OpenBLAS package is available in default repositories and can act as default BLAS in system\n",
    "Example installation commands:\n",
    "```\n",
    "  $ sudo apt update\n",
    "  $ apt search openblas\n",
    "  $ sudo apt install libopenblas-dev\n",
    "  $ sudo update-alternatives --config libblas.so.3\n",
    "```\n",
    "Alternatively, if distributor's package proves unsatisfactory, you may try latest version of OpenBLAS, [Following guide in OpenBLAS FAQ](https://github.com/xianyi/OpenBLAS/wiki/faq#debianlts)"
   ]
  },
  {
   "cell_type": "markdown",
   "id": "09df0e9f",
   "metadata": {},
   "source": [
    "Luego, para realziar la instalación de MCTDH utilizando el linkeo externo a libreria OpenBLAS realizamos lo sigiente:"
   ]
  },
  {
   "cell_type": "markdown",
   "id": "4b19c587",
   "metadata": {},
   "source": [
    "Primeramente, creamos un script custom (modificación del script que tiene el software mctdh por defecto) seteando la librería externa en la sección específica de gfotran (ya que es este compilaro el que se utiliza por defecto), la linea modificada fue la siguiente\n",
    "```\n",
    "    #EXTERNAL_BLAS=-lblas\n",
    "    EXTERNAL_BLAS=-lopenblas\n",
    "```"
   ]
  },
  {
   "cell_type": "markdown",
   "id": "a3450271",
   "metadata": {},
   "source": [
    "```\n",
    "mendez@mendez-notebook:~/MCTDH/mctdh85.14/install$ compile -x lapack -s compile_custom.cnf mctdh\n",
    "```\n",
    "ya que al compilar lapack implícitamente compilará tanto lapack con libreria externa (si la tuvieramos) como BLAS pues la salida de `compile -h` arroja lo siguiente\n",
    "```\n",
    "-x blas|lapack|none: Link with an external library.\n",
    "         Without this option, or with \"-x none\", MCTDH will be linked with\n",
    "         BLAS/LAPACK routines from NETLIBs reference implementation.\n",
    "         With \"-x blas\", MCTDH will be linked with an external BLAS and the\n",
    "         reference LAPACK.\n",
    "         With \"-x lapack\", MCTDH will be linked with both an external BLAS and\n",
    "         an external LAPACK.\n",
    "         The location of the external libraries is specified in \"compile.cnf\"\n",
    "         via the variables EXTERNAL_BLAS and EXTERNAL_LAPACK.\n",
    "```"
   ]
  },
  {
   "cell_type": "markdown",
   "id": "bb899091",
   "metadata": {},
   "source": [
    "Para verificar que efectivamente se compilo mctdh85 con OpenBLAS se corrieron los siguientes comandos:\n",
    "\n",
    "> Para saber la dirección en la que se encuentra el programa mctdh85\n",
    "```\n",
    "mendez@mendez-notebook:~$ which mctdh85\n",
    "\t/home/mendez/MCTDH/mctdh85.14/bin/binary/x86_64/mctdh85\n",
    "```\n",
    "> Para corroborar que efectivamente se trata de un código objeto binario\n",
    "```\n",
    "mendez@mendez-notebook:~/MCTDH/mctdh85.14/bin/binary/x86_64$ file mctdh85\n",
    "\tmctdh85: ELF 64-bit LSB pie executable, x86-64, version 1 (SYSV), dynamically linked, interpreter /lib64/ld-linux-x86-64.so.2, BuildID[sha1]=c61dc38046f6b835c1c40dee603a0aa63b543f22, for GNU/Linux 3.2.0, not stripped\n",
    "```\n",
    "Como nos muestra ELF podemos estar seguros de que se trata de un código objeto binario.\n",
    "\n",
    "> Para saber qué linkeos dinámicos tiene asociados el código objeto binario mctdh85\n",
    "```\n",
    "mendez@mendez-notebook:~/MCTDH/mctdh85.14/bin/binary/x86_64$ ldd mctdh85\n",
    "\tlinux-vdso.so.1 (0x00007ffe5a1a4000)\n",
    "\tliblapack.so.3 => /lib/x86_64-linux-gnu/liblapack.so.3 (0x00007fa3fe211000)\n",
    "\tlibopenblas.so.0 => /lib/x86_64-linux-gnu/libopenblas.so.0 (0x00007fa3fbdc0000)\n",
    "\tlibgfortran.so.5 => /lib/x86_64-linux-gnu/libgfortran.so.5 (0x00007fa3fbae4000)\n",
    "\tlibm.so.6 => /lib/x86_64-linux-gnu/libm.so.6 (0x00007fa3fb9fd000)\n",
    "\tlibgcc_s.so.1 => /lib/x86_64-linux-gnu/libgcc_s.so.1 (0x00007fa3fb9dd000)\n",
    "\tlibc.so.6 => /lib/x86_64-linux-gnu/libc.so.6 (0x00007fa3fb7b5000)\n",
    "\t/lib64/ld-linux-x86-64.so.2 (0x00007fa417613000)\n",
    "\tlibquadmath.so.0 => /lib/x86_64-linux-gnu/libquadmath.so.0 (0x00007fa3fb76d000)\n",
    "```\n",
    "donde podemos ver que fectivamente mctdh85 se compilo con un linkeo a OpenBLAS efectivamente."
   ]
  },
  {
   "cell_type": "markdown",
   "id": "a7d309d4-7f15-4f97-b87d-9d2127a80fbc",
   "metadata": {},
   "source": [
    "## Links útiles\n",
    "\n",
    "[Página oficial de OpenBLAS](https://www.openblas.net/)\n",
    "\n",
    "[How to Reference OpenBLAS](https://github.com/xianyi/OpenBLAS/wiki/faq#multi-threaded)\n",
    "\n",
    "[Issues](https://github.com/xianyi/OpenBLAS/issues)"
   ]
  },
  {
   "cell_type": "markdown",
   "id": "de95727f",
   "metadata": {},
   "source": []
  }
 ],
 "metadata": {
  "kernelspec": {
   "display_name": "Julia 1.7.2",
   "language": "julia",
   "name": "julia-1.7"
  },
  "language_info": {
   "file_extension": ".jl",
   "mimetype": "application/julia",
   "name": "julia",
   "version": "1.8.0"
  }
 },
 "nbformat": 4,
 "nbformat_minor": 5
}
