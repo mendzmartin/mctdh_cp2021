{
 "cells": [
  {
   "cell_type": "markdown",
   "id": "eb44449d-955f-4e8f-a398-e23a3d84a4b9",
   "metadata": {
    "tags": []
   },
   "source": [
    "# Study of performance"
   ]
  },
  {
   "cell_type": "markdown",
   "id": "cf652847-d969-4710-81e6-a0188654c2b4",
   "metadata": {
    "tags": []
   },
   "source": [
    "## **Primer estudio**\n",
    "\n",
    "+ Analizamos tiempos en el cálculo de autoenergías con el método de relajación usando mctdh para distintas configuraciones de simulaciones\n",
    "  + con y sin partículas idénticas\n",
    "  + con y sin paralelismo\n",
    "  \n",
    "Las corridas se llevan a cabo en el cluster `bandurria`.\n",
    "\n",
    "El análisis de rendimiento se realiza para un rango fijo de `lambda` ($\\lambda$ parámero perturbativo), para una función de onda inicial fija ($\\psi_{init}$) y una configuración de integradores específica. Se eligieron lo siguientes valores\n",
    "\n",
    "$0.05<=\\lambda<=1; \\Delta{\\lambda}=0.05$ \n",
    "\n",
    "```\n",
    "INIT_WF-SECTION\n",
    "\tbuild\n",
    "\t\tX1\teigenf\theff\tpop=1\n",
    "\t\tX2\tmap\t\tX1\n",
    "\tend-build\n",
    "\t\n",
    "\tA-coeff\n",
    "\t\t2\t3\t( 1.0, 0.0 )\n",
    "\t\t3\t2\t( -1.0, 0.0 )\n",
    "\tend-A-coeff\n",
    "end-init_wf-section\n",
    "```\n",
    "```\n",
    "INTEGRATOR-SECTION\n",
    "\tCMF      \t=\t0.1,\t1.0d-6\n",
    "\tRK8/spf  \t=\t1.0d-8\n",
    "\trrDAV/A  \t=\t500,\t1.0d-6\n",
    "end-integrator-section\n",
    "```"
   ]
  },
  {
   "cell_type": "markdown",
   "id": "58eb15db-c09e-434b-911a-ea15fed611d7",
   "metadata": {},
   "source": [
    "### **Configuracion 01**\n",
    "- Sin tratamiento de partículas idénticas\n",
    "```\n",
    "            SBASIS-SECTION\n",
    "                X1\t=\t10\n",
    "                X2\t=\t10\n",
    "            end-sbasis-section\n",
    "```\n",
    "- sin paralelismo\n",
    "\n",
    "### **Configuración 02**\n",
    "- con tratamiento de partículas idénticas\n",
    "```\n",
    "            SBASIS-SECTION\n",
    "                X1\t=\t10\n",
    "                X2\t=\tid,1\n",
    "            end-sbasis-section\n",
    "```\n",
    "- sin paralelismo\n",
    "\n",
    "### **Configuración 03**\n",
    "- sin tratamiento de partículas idénticas\n",
    "- con paralelismo\n",
    "```\n",
    "            usepthreads = #cpus, summf2, no-funkphi\n",
    "            ptiming\n",
    "```\n",
    "\n",
    "### **Configuración 04**\n",
    "- con tratamiento de partículas idénticas\n",
    "```\n",
    "            SBASIS-SECTION\n",
    "                X1\t=\t10\n",
    "                X2\t=\tid,1\n",
    "            end-sbasis-section\n",
    "```\n",
    "- con paralelismo\n",
    "```\n",
    "            usepthreads = #cpus, summf2, no-funkphi\n",
    "            ptiming\n",
    "```"
   ]
  },
  {
   "cell_type": "markdown",
   "id": "5aada07c-207c-4264-ae53-438dbbacb054",
   "metadata": {},
   "source": [
    "## **Segundo estudio**\n",
    "\n",
    "+ Características de las diferentes versiones\n",
    "\n",
    "### **Versión 2 (v2)**\n",
    "> Se utilizaron las configuraciones `01`, `02`, `03` y `04`.\n",
    "\n",
    "> Para las corridas en paralelo se utilizaron `8 threads` en los nodos (y colas) específicos `long@compute-0-21.local` y `long@compute-0-22.local` que tienen 8 cores reales con 2 cores lógicos cada uno.\n",
    "\n",
    "> La configuración de MCTDH para obtener energías de estados excitados con método de relajación se utilizó `relaxation=follow`.\n",
    "\n",
    "### **Versión 3 (v3)**\n",
    "> Se utilizaron las cuatro configuraciones `01`, `02`, `03` y `04`.\n",
    "\n",
    "> Para las corridas en paralelo se utilizaron `4 threads` en los nodos (y colas) específicos `long@compute-0-21.local` y `long@compute-0-22.local` que tienen 8 cores reales con 2 cores lógicos cada uno.\n",
    "\n",
    "> La configuración de MCTDH para obtener energías de estados excitados con método de relajación se utilizó `relaxation=follow,full,ortho`.\n",
    "\n",
    "### **Versión 4 (v4)**\n",
    "> Se utilizaron las configuraciones `03` y `04`.\n",
    "\n",
    "> Para las corridas en paralelo se utilizaron `4 threads` en los nodos (y colas) específicos `long@compute-0-7.local`, `local,long@compute-0-4` y `long@compute-0-5.local` que tienen 4 cores reales con 1 core lógico cada uno. De esta manera se busca que las corridas ocupen todo el nodo y obtener resultados más estables (sin ruido).\n",
    "\n",
    "> La configuración de MCTDH para obtener energías de estados excitados con método de relajación se utilizó `relaxation=follow,full,ortho`.\n",
    "\n",
    "### **Versión 5 (v5)**\n",
    "> Se utilizaron las configuraciones `03` y `04`.\n",
    "\n",
    "> Para las corridas en paralelo se utilizaron `8 threads` en los nodos (y colas) específicos `long@compute-0-21.local` y `long@compute-0-22.local` que tienen 8 cores reales con 2 cores lógicos cada uno.\n",
    "\n",
    "> La configuración de MCTDH para obtener energías de estados excitados con método de relajación se utilizó `relaxation=follow,full,ortho`."
   ]
  }
 ],
 "metadata": {
  "kernelspec": {
   "display_name": "Julia 1.7.2",
   "language": "julia",
   "name": "julia-1.7"
  },
  "language_info": {
   "file_extension": ".jl",
   "mimetype": "application/julia",
   "name": "julia",
   "version": "1.7.2"
  }
 },
 "nbformat": 4,
 "nbformat_minor": 5
}
